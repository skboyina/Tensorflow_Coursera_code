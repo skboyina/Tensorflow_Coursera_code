{
  "nbformat": 4,
  "nbformat_minor": 0,
  "metadata": {
    "colab": {
      "name": "Untitled1.ipynb",
      "provenance": [],
      "authorship_tag": "ABX9TyOe7fCWqozgT8MadFnHdYcE",
      "include_colab_link": true
    },
    "kernelspec": {
      "name": "python3",
      "display_name": "Python 3"
    },
    "language_info": {
      "name": "python"
    }
  },
  "cells": [
    {
      "cell_type": "markdown",
      "metadata": {
        "id": "view-in-github",
        "colab_type": "text"
      },
      "source": [
        "<a href=\"https://colab.research.google.com/github/skboyina/Tensorflow_Coursera_code/blob/main/TF_Keras_Seq_Simple2.ipynb\" target=\"_parent\"><img src=\"https://colab.research.google.com/assets/colab-badge.svg\" alt=\"Open In Colab\"/></a>"
      ]
    },
    {
      "cell_type": "code",
      "metadata": {
        "colab": {
          "base_uri": "https://localhost:8080/"
        },
        "id": "fIacxS-134cM",
        "outputId": "258f725c-383a-47e2-97c4-fd6757d7cc24"
      },
      "source": [
        "import tensorflow as tf\n",
        "\n",
        "print(tf.__version__)\n"
      ],
      "execution_count": 27,
      "outputs": [
        {
          "output_type": "stream",
          "name": "stdout",
          "text": [
            "2.6.0\n"
          ]
        }
      ]
    },
    {
      "cell_type": "code",
      "metadata": {
        "id": "szAPl4LJ39wC"
      },
      "source": [
        "mnist = tf.keras.datasets.fashion_mnist"
      ],
      "execution_count": 28,
      "outputs": []
    },
    {
      "cell_type": "code",
      "metadata": {
        "id": "sIGcibv74Ruj"
      },
      "source": [
        "(training_images, training_labels), (test_images, test_labels) = mnist.load_data()"
      ],
      "execution_count": 29,
      "outputs": []
    },
    {
      "cell_type": "code",
      "metadata": {
        "colab": {
          "base_uri": "https://localhost:8080/",
          "height": 283
        },
        "id": "dWRtTH0D4l8e",
        "outputId": "d5cdd0c0-f0e8-4991-c219-e48b081d80d7"
      },
      "source": [
        "import numpy as np\n",
        "np.set_printoptions(linewidth=200)\n",
        "import matplotlib.pyplot as plt\n",
        "plt.imshow(training_images[0])"
      ],
      "execution_count": 30,
      "outputs": [
        {
          "output_type": "execute_result",
          "data": {
            "text/plain": [
              "<matplotlib.image.AxesImage at 0x7f5edb036110>"
            ]
          },
          "metadata": {},
          "execution_count": 30
        },
        {
          "output_type": "display_data",
          "data": {
            "image/png": "[encoded data removed]",
            "text/plain": [
              "<Figure size 432x288 with 1 Axes>"
            ]
          },
          "metadata": {
            "needs_background": "light"
          }
        }
      ]
    },
    {
      "cell_type": "code",
      "metadata": {
        "colab": {
          "base_uri": "https://localhost:8080/"
        },
        "id": "5V4TGoI45huJ",
        "outputId": "d58d26f0-e753-47f5-e2e0-26213e47bf4d"
      },
      "source": [
        "print(training_labels[0])\n",
        "print(training_images[0])"
      ],
      "execution_count": 32,
      "outputs": [
        {
          "output_type": "stream",
          "name": "stdout",
          "text": [
            "9\n",
            "[[  0   0   0   0   0   0   0   0   0   0   0   0   0   0   0   0   0   0   0   0   0   0   0   0   0   0   0   0]\n",
            " [  0   0   0   0   0   0   0   0   0   0   0   0   0   0   0   0   0   0   0   0   0   0   0   0   0   0   0   0]\n",
            " [  0   0   0   0   0   0   0   0   0   0   0   0   0   0   0   0   0   0   0   0   0   0   0   0   0   0   0   0]\n",
            " [  0   0   0   0   0   0   0   0   0   0   0   0   1   0   0  13  73   0   0   1   4   0   0   0   0   1   1   0]\n",
            " [  0   0   0   0   0   0   0   0   0   0   0   0   3   0  36 136 127  62  54   0   0   0   1   3   4   0   0   3]\n",
            " [  0   0   0   0   0   0   0   0   0   0   0   0   6   0 102 204 176 134 144 123  23   0   0   0   0  12  10   0]\n",
            " [  0   0   0   0   0   0   0   0   0   0   0   0   0   0 155 236 207 178 107 156 161 109  64  23  77 130  72  15]\n",
            " [  0   0   0   0   0   0   0   0   0   0   0   1   0  69 207 223 218 216 216 163 127 121 122 146 141  88 172  66]\n",
            " [  0   0   0   0   0   0   0   0   0   1   1   1   0 200 232 232 233 229 223 223 215 213 164 127 123 196 229   0]\n",
            " [  0   0   0   0   0   0   0   0   0   0   0   0   0 183 225 216 223 228 235 227 224 222 224 221 223 245 173   0]\n",
            " [  0   0   0   0   0   0   0   0   0   0   0   0   0 193 228 218 213 198 180 212 210 211 213 223 220 243 202   0]\n",
            " [  0   0   0   0   0   0   0   0   0   1   3   0  12 219 220 212 218 192 169 227 208 218 224 212 226 197 209  52]\n",
            " [  0   0   0   0   0   0   0   0   0   0   6   0  99 244 222 220 218 203 198 221 215 213 222 220 245 119 167  56]\n",
            " [  0   0   0   0   0   0   0   0   0   4   0   0  55 236 228 230 228 240 232 213 218 223 234 217 217 209  92   0]\n",
            " [  0   0   1   4   6   7   2   0   0   0   0   0 237 226 217 223 222 219 222 221 216 223 229 215 218 255  77   0]\n",
            " [  0   3   0   0   0   0   0   0   0  62 145 204 228 207 213 221 218 208 211 218 224 223 219 215 224 244 159   0]\n",
            " [  0   0   0   0  18  44  82 107 189 228 220 222 217 226 200 205 211 230 224 234 176 188 250 248 233 238 215   0]\n",
            " [  0  57 187 208 224 221 224 208 204 214 208 209 200 159 245 193 206 223 255 255 221 234 221 211 220 232 246   0]\n",
            " [  3 202 228 224 221 211 211 214 205 205 205 220 240  80 150 255 229 221 188 154 191 210 204 209 222 228 225   0]\n",
            " [ 98 233 198 210 222 229 229 234 249 220 194 215 217 241  65  73 106 117 168 219 221 215 217 223 223 224 229  29]\n",
            " [ 75 204 212 204 193 205 211 225 216 185 197 206 198 213 240 195 227 245 239 223 218 212 209 222 220 221 230  67]\n",
            " [ 48 203 183 194 213 197 185 190 194 192 202 214 219 221 220 236 225 216 199 206 186 181 177 172 181 205 206 115]\n",
            " [  0 122 219 193 179 171 183 196 204 210 213 207 211 210 200 196 194 191 195 191 198 192 176 156 167 177 210  92]\n",
            " [  0   0  74 189 212 191 175 172 175 181 185 188 189 188 193 198 204 209 210 210 211 188 188 194 192 216 170   0]\n",
            " [  2   0   0   0  66 200 222 237 239 242 246 243 244 221 220 193 191 179 182 182 181 176 166 168  99  58   0   0]\n",
            " [  0   0   0   0   0   0   0  40  61  44  72  41  35   0   0   0   0   0   0   0   0   0   0   0   0   0   0   0]\n",
            " [  0   0   0   0   0   0   0   0   0   0   0   0   0   0   0   0   0   0   0   0   0   0   0   0   0   0   0   0]\n",
            " [  0   0   0   0   0   0   0   0   0   0   0   0   0   0   0   0   0   0   0   0   0   0   0   0   0   0   0   0]]\n"
          ]
        }
      ]
    },
    {
      "cell_type": "code",
      "metadata": {
        "id": "jhMlaCl-5u5H"
      },
      "source": [
        "training_images  = training_images / 255.0\n",
        "test_images = test_images / 255.0"
      ],
      "execution_count": 33,
      "outputs": []
    },
    {
      "cell_type": "code",
      "metadata": {
        "colab": {
          "base_uri": "https://localhost:8080/"
        },
        "id": "_EjztNCv5_Gf",
        "outputId": "bdaecbd0-ddb1-4849-ccff-24e103149771"
      },
      "source": [
        "print(train_img[10])"
      ],
      "execution_count": 10,
      "outputs": [
        {
          "output_type": "stream",
          "name": "stdout",
          "text": [
            "[[0.         0.         0.         0.         0.         0.\n",
            "  0.         0.04313725 0.55686275 0.78431373 0.41568627 0.\n",
            "  0.         0.         0.         0.         0.         0.\n",
            "  0.33333333 0.7254902  0.43921569 0.         0.         0.\n",
            "  0.         0.         0.         0.        ]\n",
            " [0.         0.         0.         0.         0.         0.\n",
            "  0.59607843 0.83921569 0.85098039 0.76078431 0.9254902  0.84705882\n",
            "  0.73333333 0.58431373 0.52941176 0.6        0.82745098 0.85098039\n",
            "  0.90588235 0.80392157 0.85098039 0.7372549  0.13333333 0.\n",
            "  0.         0.         0.         0.        ]\n",
            " [0.         0.         0.         0.         0.         0.25882353\n",
            "  0.7254902  0.65098039 0.70588235 0.70980392 0.74509804 0.82745098\n",
            "  0.86666667 0.77254902 0.57254902 0.77647059 0.80784314 0.74901961\n",
            "  0.65882353 0.74509804 0.6745098  0.7372549  0.68627451 0.\n",
            "  0.         0.         0.         0.        ]\n",
            " [0.         0.         0.         0.         0.         0.52941176\n",
            "  0.6        0.62745098 0.68627451 0.70588235 0.66666667 0.72941176\n",
            "  0.73333333 0.74509804 0.7372549  0.74509804 0.73333333 0.68235294\n",
            "  0.76470588 0.7254902  0.68235294 0.63137255 0.68627451 0.23137255\n",
            "  0.         0.         0.         0.        ]\n",
            " [0.         0.         0.         0.         0.         0.63137255\n",
            "  0.57647059 0.62745098 0.66666667 0.69803922 0.69411765 0.70588235\n",
            "  0.65882353 0.67843137 0.68235294 0.67058824 0.7254902  0.72156863\n",
            "  0.7254902  0.6745098  0.67058824 0.64313725 0.68235294 0.47058824\n",
            "  0.         0.         0.         0.        ]\n",
            " [0.         0.         0.         0.         0.00784314 0.68627451\n",
            "  0.57254902 0.56862745 0.65882353 0.69803922 0.70980392 0.7254902\n",
            "  0.70588235 0.72156863 0.69803922 0.70196078 0.73333333 0.74901961\n",
            "  0.75686275 0.74509804 0.70980392 0.67058824 0.6745098  0.61960784\n",
            "  0.         0.         0.         0.        ]\n",
            " [0.         0.         0.         0.         0.1372549  0.69411765\n",
            "  0.60784314 0.54901961 0.59215686 0.6745098  0.74901961 0.73333333\n",
            "  0.72941176 0.73333333 0.72941176 0.73333333 0.71372549 0.74901961\n",
            "  0.76078431 0.7372549  0.70588235 0.63137255 0.63137255 0.7254902\n",
            "  0.         0.         0.         0.        ]\n",
            " [0.         0.         0.         0.         0.23137255 0.66666667\n",
            "  0.6        0.55294118 0.47058824 0.60392157 0.62745098 0.63137255\n",
            "  0.6745098  0.65882353 0.65098039 0.63137255 0.64705882 0.6745098\n",
            "  0.66666667 0.64313725 0.54509804 0.58431373 0.63529412 0.65098039\n",
            "  0.08235294 0.         0.         0.        ]\n",
            " [0.         0.         0.         0.         0.30980392 0.56862745\n",
            "  0.62745098 0.83921569 0.48235294 0.50196078 0.6        0.62745098\n",
            "  0.64313725 0.61960784 0.61568627 0.60392157 0.60784314 0.66666667\n",
            "  0.64705882 0.55294118 0.76470588 0.75686275 0.59607843 0.65098039\n",
            "  0.23921569 0.         0.         0.        ]\n",
            " [0.         0.         0.         0.         0.39215686 0.61568627\n",
            "  0.88235294 0.96078431 0.68627451 0.44313725 0.68235294 0.61960784\n",
            "  0.61960784 0.62745098 0.60784314 0.62745098 0.64313725 0.69803922\n",
            "  0.7372549  0.52941176 0.7254902  0.94117647 0.78823529 0.6745098\n",
            "  0.42352941 0.         0.         0.        ]\n",
            " [0.         0.         0.         0.         0.         0.12156863\n",
            "  0.68235294 0.10980392 0.49411765 0.6        0.65098039 0.59607843\n",
            "  0.61960784 0.61960784 0.62745098 0.63137255 0.61568627 0.65882353\n",
            "  0.74901961 0.7372549  0.07058824 0.51764706 0.62352941 0.02745098\n",
            "  0.         0.         0.         0.        ]\n",
            " [0.         0.         0.         0.         0.         0.\n",
            "  0.         0.         0.32156863 0.73333333 0.62352941 0.6\n",
            "  0.61568627 0.61960784 0.63529412 0.64313725 0.64313725 0.60392157\n",
            "  0.73333333 0.74509804 0.         0.         0.         0.\n",
            "  0.         0.         0.         0.        ]\n",
            " [0.         0.         0.         0.         0.00392157 0.01176471\n",
            "  0.01960784 0.         0.14509804 0.68627451 0.61960784 0.60784314\n",
            "  0.63529412 0.61960784 0.62745098 0.63529412 0.64705882 0.6\n",
            "  0.69411765 0.80392157 0.         0.         0.01176471 0.01176471\n",
            "  0.         0.         0.         0.        ]\n",
            " [0.         0.         0.         0.         0.         0.\n",
            "  0.00392157 0.         0.09803922 0.68627451 0.59607843 0.62745098\n",
            "  0.61960784 0.63137255 0.62745098 0.64313725 0.64313725 0.63137255\n",
            "  0.65098039 0.78431373 0.         0.         0.00392157 0.\n",
            "  0.         0.         0.         0.        ]\n",
            " [0.         0.         0.         0.         0.         0.\n",
            "  0.01568627 0.         0.11764706 0.67058824 0.57647059 0.64313725\n",
            "  0.60784314 0.64705882 0.63137255 0.64705882 0.63529412 0.66666667\n",
            "  0.64313725 0.63529412 0.         0.         0.00784314 0.\n",
            "  0.         0.         0.         0.        ]\n",
            " [0.         0.         0.         0.         0.         0.\n",
            "  0.01568627 0.         0.22352941 0.65098039 0.60784314 0.64313725\n",
            "  0.65098039 0.63137255 0.63137255 0.64313725 0.65490196 0.64705882\n",
            "  0.64705882 0.63529412 0.10980392 0.         0.01176471 0.\n",
            "  0.         0.         0.         0.        ]\n",
            " [0.         0.         0.         0.         0.         0.\n",
            "  0.01176471 0.         0.44705882 0.63137255 0.63137255 0.65098039\n",
            "  0.62352941 0.65882353 0.63137255 0.63137255 0.6745098  0.63529412\n",
            "  0.64705882 0.67058824 0.19607843 0.         0.01960784 0.\n",
            "  0.         0.         0.         0.        ]\n",
            " [0.         0.         0.         0.         0.         0.\n",
            "  0.00392157 0.         0.58431373 0.61568627 0.65490196 0.6745098\n",
            "  0.62352941 0.6745098  0.64313725 0.63137255 0.6745098  0.66666667\n",
            "  0.62745098 0.67058824 0.34901961 0.         0.01568627 0.\n",
            "  0.         0.         0.         0.        ]\n",
            " [0.         0.         0.         0.         0.         0.00784314\n",
            "  0.         0.01568627 0.67058824 0.64313725 0.65098039 0.67843137\n",
            "  0.62352941 0.70196078 0.65098039 0.62745098 0.68235294 0.65490196\n",
            "  0.63529412 0.65098039 0.50196078 0.         0.00784314 0.\n",
            "  0.         0.         0.         0.        ]\n",
            " [0.         0.         0.         0.         0.         0.01176471\n",
            "  0.         0.07058824 0.59607843 0.67843137 0.62745098 0.70196078\n",
            "  0.60392157 0.70980392 0.65098039 0.64313725 0.68627451 0.66666667\n",
            "  0.65098039 0.66666667 0.64313725 0.         0.         0.00392157\n",
            "  0.         0.         0.         0.        ]\n",
            " [0.         0.         0.         0.         0.         0.01568627\n",
            "  0.         0.18431373 0.64705882 0.6745098  0.65490196 0.7254902\n",
            "  0.6        0.73333333 0.67843137 0.64705882 0.68235294 0.70196078\n",
            "  0.65098039 0.65098039 0.61960784 0.01960784 0.         0.01176471\n",
            "  0.         0.         0.         0.        ]\n",
            " [0.         0.         0.         0.         0.         0.01568627\n",
            "  0.         0.34117647 0.70588235 0.63529412 0.70196078 0.70196078\n",
            "  0.61568627 0.74901961 0.71372549 0.64705882 0.65882353 0.74509804\n",
            "  0.67843137 0.64705882 0.65098039 0.07843137 0.         0.01568627\n",
            "  0.         0.         0.         0.        ]\n",
            " [0.         0.         0.         0.         0.         0.01568627\n",
            "  0.         0.41176471 0.73333333 0.61568627 0.76078431 0.68627451\n",
            "  0.63137255 0.74509804 0.72156863 0.66666667 0.61960784 0.80392157\n",
            "  0.69411765 0.65882353 0.67058824 0.17254902 0.         0.01568627\n",
            "  0.         0.         0.         0.        ]\n",
            " [0.         0.         0.         0.         0.         0.01960784\n",
            "  0.         0.54117647 0.70980392 0.61960784 0.80392157 0.62745098\n",
            "  0.65490196 0.74509804 0.77647059 0.65490196 0.59607843 0.85490196\n",
            "  0.72941176 0.66666667 0.6745098  0.22352941 0.         0.01960784\n",
            "  0.         0.         0.         0.        ]\n",
            " [0.         0.         0.         0.         0.         0.01960784\n",
            "  0.         0.52941176 0.68235294 0.65490196 0.78039216 0.60784314\n",
            "  0.65098039 0.78823529 0.85882353 0.64705882 0.61960784 0.85490196\n",
            "  0.7372549  0.65490196 0.68627451 0.21960784 0.         0.02745098\n",
            "  0.         0.         0.         0.        ]\n",
            " [0.         0.         0.         0.         0.         0.01960784\n",
            "  0.         0.50588235 0.67058824 0.6745098  0.69411765 0.6\n",
            "  0.62352941 0.80784314 0.84705882 0.58039216 0.61568627 0.80784314\n",
            "  0.74509804 0.64705882 0.68627451 0.18823529 0.         0.01960784\n",
            "  0.         0.         0.         0.        ]\n",
            " [0.         0.         0.         0.         0.         0.01960784\n",
            "  0.         0.65490196 0.73333333 0.71372549 0.77647059 0.76078431\n",
            "  0.78431373 0.88627451 0.94117647 0.72156863 0.80784314 1.\n",
            "  0.77254902 0.69803922 0.70196078 0.16470588 0.         0.01960784\n",
            "  0.         0.         0.         0.        ]\n",
            " [0.         0.         0.         0.         0.         0.01176471\n",
            "  0.         0.45098039 0.52941176 0.44313725 0.41568627 0.33333333\n",
            "  0.32156863 0.42352941 0.52156863 0.3254902  0.35294118 0.4745098\n",
            "  0.47058824 0.43137255 0.61960784 0.07058824 0.         0.01176471\n",
            "  0.         0.         0.         0.        ]]\n"
          ]
        }
      ]
    },
    {
      "cell_type": "code",
      "metadata": {
        "id": "si-SgsGc6Ywj"
      },
      "source": [
        "model = tf.keras.models.Sequential([tf.keras.layers.Flatten(), \n",
        "                                    tf.keras.layers.Dense(128, activation=tf.nn.relu), \n",
        "                                    tf.keras.layers.Dense(10, activation=tf.nn.softmax)])"
      ],
      "execution_count": 35,
      "outputs": []
    },
    {
      "cell_type": "code",
      "metadata": {
        "colab": {
          "base_uri": "https://localhost:8080/"
        },
        "id": "uV8kuFJd7ngV",
        "outputId": "41b0ea27-7f09-4243-aef9-1afe9db00099"
      },
      "source": [
        "model.compile(optimizer = tf.optimizers.Adam(),\n",
        "              loss = 'sparse_categorical_crossentropy',\n",
        "              metrics=['accuracy'])\n",
        "\n",
        "model.fit(training_images, training_labels, epochs=15)"
      ],
      "execution_count": 38,
      "outputs": [
        {
          "output_type": "stream",
          "name": "stdout",
          "text": [
            "Epoch 1/15\n",
            "1875/1875 [==============================] - 4s 2ms/step - loss: 0.2820 - accuracy: 0.8963\n",
            "Epoch 2/15\n",
            "1875/1875 [==============================] - 4s 2ms/step - loss: 0.2693 - accuracy: 0.9001\n",
            "Epoch 3/15\n",
            "1875/1875 [==============================] - 4s 2ms/step - loss: 0.2579 - accuracy: 0.9050\n",
            "Epoch 4/15\n",
            "1875/1875 [==============================] - 4s 2ms/step - loss: 0.2482 - accuracy: 0.9072\n",
            "Epoch 5/15\n",
            "1875/1875 [==============================] - 4s 2ms/step - loss: 0.2390 - accuracy: 0.9110\n",
            "Epoch 6/15\n",
            "1875/1875 [==============================] - 4s 2ms/step - loss: 0.2294 - accuracy: 0.9136\n",
            "Epoch 7/15\n",
            "1875/1875 [==============================] - 4s 2ms/step - loss: 0.2216 - accuracy: 0.9179\n",
            "Epoch 8/15\n",
            "1875/1875 [==============================] - 4s 2ms/step - loss: 0.2145 - accuracy: 0.9198\n",
            "Epoch 9/15\n",
            "1875/1875 [==============================] - 4s 2ms/step - loss: 0.2085 - accuracy: 0.9218\n",
            "Epoch 10/15\n",
            "1875/1875 [==============================] - 4s 2ms/step - loss: 0.2032 - accuracy: 0.9232\n",
            "Epoch 11/15\n",
            "1875/1875 [==============================] - 4s 2ms/step - loss: 0.1970 - accuracy: 0.9258\n",
            "Epoch 12/15\n",
            "1875/1875 [==============================] - 4s 2ms/step - loss: 0.1932 - accuracy: 0.9272\n",
            "Epoch 13/15\n",
            "1875/1875 [==============================] - 4s 2ms/step - loss: 0.1866 - accuracy: 0.9296\n",
            "Epoch 14/15\n",
            "1875/1875 [==============================] - 4s 2ms/step - loss: 0.1832 - accuracy: 0.9311\n",
            "Epoch 15/15\n",
            "1875/1875 [==============================] - 4s 2ms/step - loss: 0.1775 - accuracy: 0.9332\n"
          ]
        },
        {
          "output_type": "execute_result",
          "data": {
            "text/plain": [
              "<keras.callbacks.History at 0x7f5edb281090>"
            ]
          },
          "metadata": {},
          "execution_count": 38
        }
      ]
    },
    {
      "cell_type": "code",
      "metadata": {
        "colab": {
          "base_uri": "https://localhost:8080/"
        },
        "id": "D7H578KN9R8g",
        "outputId": "15858c30-01cb-4f23-85c6-49d022fac92d"
      },
      "source": [
        "model.evaluate(test_images, test_labels)"
      ],
      "execution_count": 39,
      "outputs": [
        {
          "output_type": "stream",
          "name": "stdout",
          "text": [
            "313/313 [==============================] - 1s 1ms/step - loss: 0.3521 - accuracy: 0.8903\n"
          ]
        },
        {
          "output_type": "execute_result",
          "data": {
            "text/plain": [
              "[0.3520631492137909, 0.8902999758720398]"
            ]
          },
          "metadata": {},
          "execution_count": 39
        }
      ]
    },
    {
      "cell_type": "code",
      "metadata": {
        "colab": {
          "base_uri": "https://localhost:8080/"
        },
        "id": "N3NI7VEaPZdP",
        "outputId": "4c187488-402d-4f19-8580-40e8c4c48546"
      },
      "source": [
        "classifications = model.predict(test_images)\n",
        "\n",
        "print(classifications[0])"
      ],
      "execution_count": 45,
      "outputs": [
        {
          "output_type": "stream",
          "name": "stdout",
          "text": [
            "[6.9814488e-12 2.7821637e-10 5.9174922e-11 1.6719666e-11 1.3143395e-09 3.5504266e-07 1.4401836e-09 1.7808685e-03 1.7271540e-11 9.9821872e-01]\n"
          ]
        }
      ]
    },
    {
      "cell_type": "code",
      "metadata": {
        "colab": {
          "base_uri": "https://localhost:8080/"
        },
        "id": "ZVz5-5Fu92Kl",
        "outputId": "b0dd8e09-80a0-43bc-aa15-c16f4cc4d113"
      },
      "source": [
        "print(test_labels[100])"
      ],
      "execution_count": 44,
      "outputs": [
        {
          "output_type": "stream",
          "name": "stdout",
          "text": [
            "3\n"
          ]
        }
      ]
    },
    {
      "cell_type": "code",
      "metadata": {
        "id": "v-Dt_lX-5Wci"
      },
      "source": [
        ""
      ],
      "execution_count": null,
      "outputs": []
    },
    {
      "cell_type": "code",
      "metadata": {
        "id": "XUc4UoKO49zn"
      },
      "source": [
        ""
      ],
      "execution_count": null,
      "outputs": []
    }
  ]
}