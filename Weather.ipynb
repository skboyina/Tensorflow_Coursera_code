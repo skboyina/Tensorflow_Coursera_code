{
  "nbformat": 4,
  "nbformat_minor": 0,
  "metadata": {
    "colab": {
      "name": "Untitled3.ipynb",
      "provenance": [],
      "authorship_tag": "ABX9TyNPGPlckFQYIViobT5cEtBM",
      "include_colab_link": true
    },
    "kernelspec": {
      "name": "python3",
      "display_name": "Python 3"
    },
    "language_info": {
      "name": "python"
    }
  },
  "cells": [
    {
      "cell_type": "markdown",
      "metadata": {
        "id": "view-in-github",
        "colab_type": "text"
      },
      "source": [
        "<a href=\"https://colab.research.google.com/github/skboyina/Tensorflow_Coursera_code/blob/main/Weather.ipynb\" target=\"_parent\"><img src=\"https://colab.research.google.com/assets/colab-badge.svg\" alt=\"Open In Colab\"/></a>"
      ]
    },
    {
      "cell_type": "code",
      "metadata": {
        "id": "1hr2-kpPoyt7"
      },
      "source": [
        "#Import packages\n",
        "import pandas as pd\n",
        "import numpy as np\n",
        "import matplotlib.pyplot as plt\n",
        "from matplotlib import pyplot\n",
        "%matplotlib inline\n",
        "from matplotlib.pylab import rcParams\n",
        "import seaborn as sns\n",
        "rcParams['figure.figsize']=15,10"
      ],
      "execution_count": 3,
      "outputs": []
    },
    {
      "cell_type": "code",
      "metadata": {
        "id": "BikN-jWDpwZX"
      },
      "source": [
        "#define header\n",
        "col=['DATE','TIME','CO_GT','PT08_S1_CO','NMHC_GT','C6H6_GT','PT08_S2_NMHC',\n",
        "     'NOX_GT','PT08_S3_NOX','NO2_GT','PT08_S4_NO2','PT08_S5_O3','T','RH','AH']"
      ],
      "execution_count": 5,
      "outputs": []
    },
    {
      "cell_type": "code",
      "metadata": {
        "colab": {
          "base_uri": "https://localhost:8080/",
          "height": 237
        },
        "id": "MC7ZzeJOpywy",
        "outputId": "d92d8a36-5f65-4c6e-e08c-f365819c9d5b"
      },
      "source": [
        "#define number of columns from csv\n",
        "use=list(np.arange(len(col)))\n",
        "\n",
        "# print(use)\n",
        "\n",
        "#read the data from csv\n",
        "df_air=pd.read_csv(\"AirQualityUCI.csv\",header=None,skiprows=1,names=col,na_filter=True,na_values=-200,usecols=use,sep=\";\", decimal=\",\",index_col=\"DATE\")\n",
        "df_air.head()"
      ],
      "execution_count": 7,
      "outputs": [
        {
          "output_type": "execute_result",
          "data": {
            "text/html": [
              "<div>\n",
              "<style scoped>\n",
              "    .dataframe tbody tr th:only-of-type {\n",
              "        vertical-align: middle;\n",
              "    }\n",
              "\n",
              "    .dataframe tbody tr th {\n",
              "        vertical-align: top;\n",
              "    }\n",
              "\n",
              "    .dataframe thead th {\n",
              "        text-align: right;\n",
              "    }\n",
              "</style>\n",
              "<table border=\"1\" class=\"dataframe\">\n",
              "  <thead>\n",
              "    <tr style=\"text-align: right;\">\n",
              "      <th></th>\n",
              "      <th>TIME</th>\n",
              "      <th>CO_GT</th>\n",
              "      <th>PT08_S1_CO</th>\n",
              "      <th>NMHC_GT</th>\n",
              "      <th>C6H6_GT</th>\n",
              "      <th>PT08_S2_NMHC</th>\n",
              "      <th>NOX_GT</th>\n",
              "      <th>PT08_S3_NOX</th>\n",
              "      <th>NO2_GT</th>\n",
              "      <th>PT08_S4_NO2</th>\n",
              "      <th>PT08_S5_O3</th>\n",
              "      <th>T</th>\n",
              "      <th>RH</th>\n",
              "      <th>AH</th>\n",
              "    </tr>\n",
              "    <tr>\n",
              "      <th>DATE</th>\n",
              "      <th></th>\n",
              "      <th></th>\n",
              "      <th></th>\n",
              "      <th></th>\n",
              "      <th></th>\n",
              "      <th></th>\n",
              "      <th></th>\n",
              "      <th></th>\n",
              "      <th></th>\n",
              "      <th></th>\n",
              "      <th></th>\n",
              "      <th></th>\n",
              "      <th></th>\n",
              "      <th></th>\n",
              "    </tr>\n",
              "  </thead>\n",
              "  <tbody>\n",
              "    <tr>\n",
              "      <th>10/03/2004</th>\n",
              "      <td>18.00.00</td>\n",
              "      <td>2.6</td>\n",
              "      <td>1360.0</td>\n",
              "      <td>150.0</td>\n",
              "      <td>11.9</td>\n",
              "      <td>1046.0</td>\n",
              "      <td>166.0</td>\n",
              "      <td>1056.0</td>\n",
              "      <td>113.0</td>\n",
              "      <td>1692.0</td>\n",
              "      <td>1268.0</td>\n",
              "      <td>13.6</td>\n",
              "      <td>48.9</td>\n",
              "      <td>0.7578</td>\n",
              "    </tr>\n",
              "    <tr>\n",
              "      <th>10/03/2004</th>\n",
              "      <td>19.00.00</td>\n",
              "      <td>2.0</td>\n",
              "      <td>1292.0</td>\n",
              "      <td>112.0</td>\n",
              "      <td>9.4</td>\n",
              "      <td>955.0</td>\n",
              "      <td>103.0</td>\n",
              "      <td>1174.0</td>\n",
              "      <td>92.0</td>\n",
              "      <td>1559.0</td>\n",
              "      <td>972.0</td>\n",
              "      <td>13.3</td>\n",
              "      <td>47.7</td>\n",
              "      <td>0.7255</td>\n",
              "    </tr>\n",
              "    <tr>\n",
              "      <th>10/03/2004</th>\n",
              "      <td>20.00.00</td>\n",
              "      <td>2.2</td>\n",
              "      <td>1402.0</td>\n",
              "      <td>88.0</td>\n",
              "      <td>9.0</td>\n",
              "      <td>939.0</td>\n",
              "      <td>131.0</td>\n",
              "      <td>1140.0</td>\n",
              "      <td>114.0</td>\n",
              "      <td>1555.0</td>\n",
              "      <td>1074.0</td>\n",
              "      <td>11.9</td>\n",
              "      <td>54.0</td>\n",
              "      <td>0.7502</td>\n",
              "    </tr>\n",
              "    <tr>\n",
              "      <th>10/03/2004</th>\n",
              "      <td>21.00.00</td>\n",
              "      <td>2.2</td>\n",
              "      <td>1376.0</td>\n",
              "      <td>80.0</td>\n",
              "      <td>9.2</td>\n",
              "      <td>948.0</td>\n",
              "      <td>172.0</td>\n",
              "      <td>1092.0</td>\n",
              "      <td>122.0</td>\n",
              "      <td>1584.0</td>\n",
              "      <td>1203.0</td>\n",
              "      <td>11.0</td>\n",
              "      <td>60.0</td>\n",
              "      <td>0.7867</td>\n",
              "    </tr>\n",
              "    <tr>\n",
              "      <th>10/03/2004</th>\n",
              "      <td>22.00.00</td>\n",
              "      <td>1.6</td>\n",
              "      <td>1272.0</td>\n",
              "      <td>51.0</td>\n",
              "      <td>6.5</td>\n",
              "      <td>836.0</td>\n",
              "      <td>131.0</td>\n",
              "      <td>1205.0</td>\n",
              "      <td>116.0</td>\n",
              "      <td>1490.0</td>\n",
              "      <td>1110.0</td>\n",
              "      <td>11.2</td>\n",
              "      <td>59.6</td>\n",
              "      <td>0.7888</td>\n",
              "    </tr>\n",
              "  </tbody>\n",
              "</table>\n",
              "</div>"
            ],
            "text/plain": [
              "                TIME  CO_GT  PT08_S1_CO  ...     T    RH      AH\n",
              "DATE                                     ...                    \n",
              "10/03/2004  18.00.00    2.6      1360.0  ...  13.6  48.9  0.7578\n",
              "10/03/2004  19.00.00    2.0      1292.0  ...  13.3  47.7  0.7255\n",
              "10/03/2004  20.00.00    2.2      1402.0  ...  11.9  54.0  0.7502\n",
              "10/03/2004  21.00.00    2.2      1376.0  ...  11.0  60.0  0.7867\n",
              "10/03/2004  22.00.00    1.6      1272.0  ...  11.2  59.6  0.7888\n",
              "\n",
              "[5 rows x 14 columns]"
            ]
          },
          "metadata": {},
          "execution_count": 7
        }
      ]
    },
    {
      "cell_type": "code",
      "metadata": {
        "colab": {
          "base_uri": "https://localhost:8080/",
          "height": 237
        },
        "id": "RUbkOSCyp7C9",
        "outputId": "d9d6f733-c936-4e80-b4fb-1ff124fabb84"
      },
      "source": [
        "df_air.tail()"
      ],
      "execution_count": 8,
      "outputs": [
        {
          "output_type": "execute_result",
          "data": {
            "text/html": [
              "<div>\n",
              "<style scoped>\n",
              "    .dataframe tbody tr th:only-of-type {\n",
              "        vertical-align: middle;\n",
              "    }\n",
              "\n",
              "    .dataframe tbody tr th {\n",
              "        vertical-align: top;\n",
              "    }\n",
              "\n",
              "    .dataframe thead th {\n",
              "        text-align: right;\n",
              "    }\n",
              "</style>\n",
              "<table border=\"1\" class=\"dataframe\">\n",
              "  <thead>\n",
              "    <tr style=\"text-align: right;\">\n",
              "      <th></th>\n",
              "      <th>TIME</th>\n",
              "      <th>CO_GT</th>\n",
              "      <th>PT08_S1_CO</th>\n",
              "      <th>NMHC_GT</th>\n",
              "      <th>C6H6_GT</th>\n",
              "      <th>PT08_S2_NMHC</th>\n",
              "      <th>NOX_GT</th>\n",
              "      <th>PT08_S3_NOX</th>\n",
              "      <th>NO2_GT</th>\n",
              "      <th>PT08_S4_NO2</th>\n",
              "      <th>PT08_S5_O3</th>\n",
              "      <th>T</th>\n",
              "      <th>RH</th>\n",
              "      <th>AH</th>\n",
              "    </tr>\n",
              "    <tr>\n",
              "      <th>DATE</th>\n",
              "      <th></th>\n",
              "      <th></th>\n",
              "      <th></th>\n",
              "      <th></th>\n",
              "      <th></th>\n",
              "      <th></th>\n",
              "      <th></th>\n",
              "      <th></th>\n",
              "      <th></th>\n",
              "      <th></th>\n",
              "      <th></th>\n",
              "      <th></th>\n",
              "      <th></th>\n",
              "      <th></th>\n",
              "    </tr>\n",
              "  </thead>\n",
              "  <tbody>\n",
              "    <tr>\n",
              "      <th>NaN</th>\n",
              "      <td>NaN</td>\n",
              "      <td>NaN</td>\n",
              "      <td>NaN</td>\n",
              "      <td>NaN</td>\n",
              "      <td>NaN</td>\n",
              "      <td>NaN</td>\n",
              "      <td>NaN</td>\n",
              "      <td>NaN</td>\n",
              "      <td>NaN</td>\n",
              "      <td>NaN</td>\n",
              "      <td>NaN</td>\n",
              "      <td>NaN</td>\n",
              "      <td>NaN</td>\n",
              "      <td>NaN</td>\n",
              "    </tr>\n",
              "    <tr>\n",
              "      <th>NaN</th>\n",
              "      <td>NaN</td>\n",
              "      <td>NaN</td>\n",
              "      <td>NaN</td>\n",
              "      <td>NaN</td>\n",
              "      <td>NaN</td>\n",
              "      <td>NaN</td>\n",
              "      <td>NaN</td>\n",
              "      <td>NaN</td>\n",
              "      <td>NaN</td>\n",
              "      <td>NaN</td>\n",
              "      <td>NaN</td>\n",
              "      <td>NaN</td>\n",
              "      <td>NaN</td>\n",
              "      <td>NaN</td>\n",
              "    </tr>\n",
              "    <tr>\n",
              "      <th>NaN</th>\n",
              "      <td>NaN</td>\n",
              "      <td>NaN</td>\n",
              "      <td>NaN</td>\n",
              "      <td>NaN</td>\n",
              "      <td>NaN</td>\n",
              "      <td>NaN</td>\n",
              "      <td>NaN</td>\n",
              "      <td>NaN</td>\n",
              "      <td>NaN</td>\n",
              "      <td>NaN</td>\n",
              "      <td>NaN</td>\n",
              "      <td>NaN</td>\n",
              "      <td>NaN</td>\n",
              "      <td>NaN</td>\n",
              "    </tr>\n",
              "    <tr>\n",
              "      <th>NaN</th>\n",
              "      <td>NaN</td>\n",
              "      <td>NaN</td>\n",
              "      <td>NaN</td>\n",
              "      <td>NaN</td>\n",
              "      <td>NaN</td>\n",
              "      <td>NaN</td>\n",
              "      <td>NaN</td>\n",
              "      <td>NaN</td>\n",
              "      <td>NaN</td>\n",
              "      <td>NaN</td>\n",
              "      <td>NaN</td>\n",
              "      <td>NaN</td>\n",
              "      <td>NaN</td>\n",
              "      <td>NaN</td>\n",
              "    </tr>\n",
              "    <tr>\n",
              "      <th>NaN</th>\n",
              "      <td>NaN</td>\n",
              "      <td>NaN</td>\n",
              "      <td>NaN</td>\n",
              "      <td>NaN</td>\n",
              "      <td>NaN</td>\n",
              "      <td>NaN</td>\n",
              "      <td>NaN</td>\n",
              "      <td>NaN</td>\n",
              "      <td>NaN</td>\n",
              "      <td>NaN</td>\n",
              "      <td>NaN</td>\n",
              "      <td>NaN</td>\n",
              "      <td>NaN</td>\n",
              "      <td>NaN</td>\n",
              "    </tr>\n",
              "  </tbody>\n",
              "</table>\n",
              "</div>"
            ],
            "text/plain": [
              "     TIME  CO_GT  PT08_S1_CO  NMHC_GT  ...  PT08_S5_O3   T  RH  AH\n",
              "DATE                                   ...                        \n",
              "NaN   NaN    NaN         NaN      NaN  ...         NaN NaN NaN NaN\n",
              "NaN   NaN    NaN         NaN      NaN  ...         NaN NaN NaN NaN\n",
              "NaN   NaN    NaN         NaN      NaN  ...         NaN NaN NaN NaN\n",
              "NaN   NaN    NaN         NaN      NaN  ...         NaN NaN NaN NaN\n",
              "NaN   NaN    NaN         NaN      NaN  ...         NaN NaN NaN NaN\n",
              "\n",
              "[5 rows x 14 columns]"
            ]
          },
          "metadata": {},
          "execution_count": 8
        }
      ]
    },
    {
      "cell_type": "code",
      "metadata": {
        "colab": {
          "base_uri": "https://localhost:8080/"
        },
        "id": "yz17Apgjqoov",
        "outputId": "9e62b09c-8b16-40ed-e983-447f5465005a"
      },
      "source": [
        "df_air.dtypes"
      ],
      "execution_count": 10,
      "outputs": [
        {
          "output_type": "execute_result",
          "data": {
            "text/plain": [
              "TIME             object\n",
              "CO_GT           float64\n",
              "PT08_S1_CO      float64\n",
              "NMHC_GT         float64\n",
              "C6H6_GT         float64\n",
              "PT08_S2_NMHC    float64\n",
              "NOX_GT          float64\n",
              "PT08_S3_NOX     float64\n",
              "NO2_GT          float64\n",
              "PT08_S4_NO2     float64\n",
              "PT08_S5_O3      float64\n",
              "T               float64\n",
              "RH              float64\n",
              "AH              float64\n",
              "dtype: object"
            ]
          },
          "metadata": {},
          "execution_count": 10
        }
      ]
    },
    {
      "cell_type": "code",
      "metadata": {
        "id": "eUn82zkzq2_C"
      },
      "source": [
        "  #drop end rows with NaN values\n",
        "df_air.dropna(how='all',inplace=True)\n",
        "#drop RH NAN rows\n",
        "df_air.dropna(thresh=10,axis=0,inplace=True)"
      ],
      "execution_count": 11,
      "outputs": []
    },
    {
      "cell_type": "code",
      "metadata": {
        "colab": {
          "base_uri": "https://localhost:8080/"
        },
        "id": "4ly_7_OsrEGp",
        "outputId": "68a0e6c7-bd1d-4ded-c794-4f6d0b810d04"
      },
      "source": [
        "df_air.shape"
      ],
      "execution_count": 12,
      "outputs": [
        {
          "output_type": "execute_result",
          "data": {
            "text/plain": [
              "(8991, 14)"
            ]
          },
          "metadata": {},
          "execution_count": 12
        }
      ]
    },
    {
      "cell_type": "code",
      "metadata": {
        "colab": {
          "base_uri": "https://localhost:8080/"
        },
        "id": "-uRdD7rErOdA",
        "outputId": "b9c76992-f96d-4a81-afca-e703e08d2950"
      },
      "source": [
        "  df_air.describe"
      ],
      "execution_count": 13,
      "outputs": [
        {
          "output_type": "execute_result",
          "data": {
            "text/plain": [
              "<bound method NDFrame.describe of                 TIME  CO_GT  PT08_S1_CO  ...     T    RH      AH\n",
              "DATE                                     ...                    \n",
              "10/03/2004  18.00.00    2.6      1360.0  ...  13.6  48.9  0.7578\n",
              "10/03/2004  19.00.00    2.0      1292.0  ...  13.3  47.7  0.7255\n",
              "10/03/2004  20.00.00    2.2      1402.0  ...  11.9  54.0  0.7502\n",
              "10/03/2004  21.00.00    2.2      1376.0  ...  11.0  60.0  0.7867\n",
              "10/03/2004  22.00.00    1.6      1272.0  ...  11.2  59.6  0.7888\n",
              "...              ...    ...         ...  ...   ...   ...     ...\n",
              "04/04/2005  10.00.00    3.1      1314.0  ...  21.9  29.3  0.7568\n",
              "04/04/2005  11.00.00    2.4      1163.0  ...  24.3  23.7  0.7119\n",
              "04/04/2005  12.00.00    2.4      1142.0  ...  26.9  18.3  0.6406\n",
              "04/04/2005  13.00.00    2.1      1003.0  ...  28.3  13.5  0.5139\n",
              "04/04/2005  14.00.00    2.2      1071.0  ...  28.5  13.1  0.5028\n",
              "\n",
              "[8991 rows x 14 columns]>"
            ]
          },
          "metadata": {},
          "execution_count": 13
        }
      ]
    },
    {
      "cell_type": "code",
      "metadata": {
        "colab": {
          "base_uri": "https://localhost:8080/",
          "height": 237
        },
        "id": "SOCU4gjBrVRZ",
        "outputId": "34d4c554-3bc4-4eb3-d681-809daadf3fda"
      },
      "source": [
        "df_air['Hour'] = df_air['TIME'].apply(lambda x: int(x.split('.')[0]))\n",
        "df_air.Hour.head()\n",
        "df_air.head()"
      ],
      "execution_count": 16,
      "outputs": [
        {
          "output_type": "execute_result",
          "data": {
            "text/html": [
              "<div>\n",
              "<style scoped>\n",
              "    .dataframe tbody tr th:only-of-type {\n",
              "        vertical-align: middle;\n",
              "    }\n",
              "\n",
              "    .dataframe tbody tr th {\n",
              "        vertical-align: top;\n",
              "    }\n",
              "\n",
              "    .dataframe thead th {\n",
              "        text-align: right;\n",
              "    }\n",
              "</style>\n",
              "<table border=\"1\" class=\"dataframe\">\n",
              "  <thead>\n",
              "    <tr style=\"text-align: right;\">\n",
              "      <th></th>\n",
              "      <th>TIME</th>\n",
              "      <th>CO_GT</th>\n",
              "      <th>PT08_S1_CO</th>\n",
              "      <th>NMHC_GT</th>\n",
              "      <th>C6H6_GT</th>\n",
              "      <th>PT08_S2_NMHC</th>\n",
              "      <th>NOX_GT</th>\n",
              "      <th>PT08_S3_NOX</th>\n",
              "      <th>NO2_GT</th>\n",
              "      <th>PT08_S4_NO2</th>\n",
              "      <th>PT08_S5_O3</th>\n",
              "      <th>T</th>\n",
              "      <th>RH</th>\n",
              "      <th>AH</th>\n",
              "      <th>Hour</th>\n",
              "    </tr>\n",
              "    <tr>\n",
              "      <th>DATE</th>\n",
              "      <th></th>\n",
              "      <th></th>\n",
              "      <th></th>\n",
              "      <th></th>\n",
              "      <th></th>\n",
              "      <th></th>\n",
              "      <th></th>\n",
              "      <th></th>\n",
              "      <th></th>\n",
              "      <th></th>\n",
              "      <th></th>\n",
              "      <th></th>\n",
              "      <th></th>\n",
              "      <th></th>\n",
              "      <th></th>\n",
              "    </tr>\n",
              "  </thead>\n",
              "  <tbody>\n",
              "    <tr>\n",
              "      <th>10/03/2004</th>\n",
              "      <td>18.00.00</td>\n",
              "      <td>2.6</td>\n",
              "      <td>1360.0</td>\n",
              "      <td>150.0</td>\n",
              "      <td>11.9</td>\n",
              "      <td>1046.0</td>\n",
              "      <td>166.0</td>\n",
              "      <td>1056.0</td>\n",
              "      <td>113.0</td>\n",
              "      <td>1692.0</td>\n",
              "      <td>1268.0</td>\n",
              "      <td>13.6</td>\n",
              "      <td>48.9</td>\n",
              "      <td>0.7578</td>\n",
              "      <td>18</td>\n",
              "    </tr>\n",
              "    <tr>\n",
              "      <th>10/03/2004</th>\n",
              "      <td>19.00.00</td>\n",
              "      <td>2.0</td>\n",
              "      <td>1292.0</td>\n",
              "      <td>112.0</td>\n",
              "      <td>9.4</td>\n",
              "      <td>955.0</td>\n",
              "      <td>103.0</td>\n",
              "      <td>1174.0</td>\n",
              "      <td>92.0</td>\n",
              "      <td>1559.0</td>\n",
              "      <td>972.0</td>\n",
              "      <td>13.3</td>\n",
              "      <td>47.7</td>\n",
              "      <td>0.7255</td>\n",
              "      <td>19</td>\n",
              "    </tr>\n",
              "    <tr>\n",
              "      <th>10/03/2004</th>\n",
              "      <td>20.00.00</td>\n",
              "      <td>2.2</td>\n",
              "      <td>1402.0</td>\n",
              "      <td>88.0</td>\n",
              "      <td>9.0</td>\n",
              "      <td>939.0</td>\n",
              "      <td>131.0</td>\n",
              "      <td>1140.0</td>\n",
              "      <td>114.0</td>\n",
              "      <td>1555.0</td>\n",
              "      <td>1074.0</td>\n",
              "      <td>11.9</td>\n",
              "      <td>54.0</td>\n",
              "      <td>0.7502</td>\n",
              "      <td>20</td>\n",
              "    </tr>\n",
              "    <tr>\n",
              "      <th>10/03/2004</th>\n",
              "      <td>21.00.00</td>\n",
              "      <td>2.2</td>\n",
              "      <td>1376.0</td>\n",
              "      <td>80.0</td>\n",
              "      <td>9.2</td>\n",
              "      <td>948.0</td>\n",
              "      <td>172.0</td>\n",
              "      <td>1092.0</td>\n",
              "      <td>122.0</td>\n",
              "      <td>1584.0</td>\n",
              "      <td>1203.0</td>\n",
              "      <td>11.0</td>\n",
              "      <td>60.0</td>\n",
              "      <td>0.7867</td>\n",
              "      <td>21</td>\n",
              "    </tr>\n",
              "    <tr>\n",
              "      <th>10/03/2004</th>\n",
              "      <td>22.00.00</td>\n",
              "      <td>1.6</td>\n",
              "      <td>1272.0</td>\n",
              "      <td>51.0</td>\n",
              "      <td>6.5</td>\n",
              "      <td>836.0</td>\n",
              "      <td>131.0</td>\n",
              "      <td>1205.0</td>\n",
              "      <td>116.0</td>\n",
              "      <td>1490.0</td>\n",
              "      <td>1110.0</td>\n",
              "      <td>11.2</td>\n",
              "      <td>59.6</td>\n",
              "      <td>0.7888</td>\n",
              "      <td>22</td>\n",
              "    </tr>\n",
              "  </tbody>\n",
              "</table>\n",
              "</div>"
            ],
            "text/plain": [
              "                TIME  CO_GT  PT08_S1_CO  NMHC_GT  ...     T    RH      AH  Hour\n",
              "DATE                                              ...                          \n",
              "10/03/2004  18.00.00    2.6      1360.0    150.0  ...  13.6  48.9  0.7578    18\n",
              "10/03/2004  19.00.00    2.0      1292.0    112.0  ...  13.3  47.7  0.7255    19\n",
              "10/03/2004  20.00.00    2.2      1402.0     88.0  ...  11.9  54.0  0.7502    20\n",
              "10/03/2004  21.00.00    2.2      1376.0     80.0  ...  11.0  60.0  0.7867    21\n",
              "10/03/2004  22.00.00    1.6      1272.0     51.0  ...  11.2  59.6  0.7888    22\n",
              "\n",
              "[5 rows x 15 columns]"
            ]
          },
          "metadata": {},
          "execution_count": 16
        }
      ]
    },
    {
      "cell_type": "code",
      "metadata": {
        "id": "oM4O2u5YsF9g"
      },
      "source": [
        "df_air.drop('TIME',axis=1,inplace=True)"
      ],
      "execution_count": 17,
      "outputs": []
    },
    {
      "cell_type": "code",
      "metadata": {
        "colab": {
          "base_uri": "https://localhost:8080/",
          "height": 237
        },
        "id": "a1wdVYSStEiS",
        "outputId": "3ea9a7e3-ab52-40ee-d449-7251062b80f2"
      },
      "source": [
        "df_air.head()"
      ],
      "execution_count": 18,
      "outputs": [
        {
          "output_type": "execute_result",
          "data": {
            "text/html": [
              "<div>\n",
              "<style scoped>\n",
              "    .dataframe tbody tr th:only-of-type {\n",
              "        vertical-align: middle;\n",
              "    }\n",
              "\n",
              "    .dataframe tbody tr th {\n",
              "        vertical-align: top;\n",
              "    }\n",
              "\n",
              "    .dataframe thead th {\n",
              "        text-align: right;\n",
              "    }\n",
              "</style>\n",
              "<table border=\"1\" class=\"dataframe\">\n",
              "  <thead>\n",
              "    <tr style=\"text-align: right;\">\n",
              "      <th></th>\n",
              "      <th>CO_GT</th>\n",
              "      <th>PT08_S1_CO</th>\n",
              "      <th>NMHC_GT</th>\n",
              "      <th>C6H6_GT</th>\n",
              "      <th>PT08_S2_NMHC</th>\n",
              "      <th>NOX_GT</th>\n",
              "      <th>PT08_S3_NOX</th>\n",
              "      <th>NO2_GT</th>\n",
              "      <th>PT08_S4_NO2</th>\n",
              "      <th>PT08_S5_O3</th>\n",
              "      <th>T</th>\n",
              "      <th>RH</th>\n",
              "      <th>AH</th>\n",
              "      <th>Hour</th>\n",
              "    </tr>\n",
              "    <tr>\n",
              "      <th>DATE</th>\n",
              "      <th></th>\n",
              "      <th></th>\n",
              "      <th></th>\n",
              "      <th></th>\n",
              "      <th></th>\n",
              "      <th></th>\n",
              "      <th></th>\n",
              "      <th></th>\n",
              "      <th></th>\n",
              "      <th></th>\n",
              "      <th></th>\n",
              "      <th></th>\n",
              "      <th></th>\n",
              "      <th></th>\n",
              "    </tr>\n",
              "  </thead>\n",
              "  <tbody>\n",
              "    <tr>\n",
              "      <th>10/03/2004</th>\n",
              "      <td>2.6</td>\n",
              "      <td>1360.0</td>\n",
              "      <td>150.0</td>\n",
              "      <td>11.9</td>\n",
              "      <td>1046.0</td>\n",
              "      <td>166.0</td>\n",
              "      <td>1056.0</td>\n",
              "      <td>113.0</td>\n",
              "      <td>1692.0</td>\n",
              "      <td>1268.0</td>\n",
              "      <td>13.6</td>\n",
              "      <td>48.9</td>\n",
              "      <td>0.7578</td>\n",
              "      <td>18</td>\n",
              "    </tr>\n",
              "    <tr>\n",
              "      <th>10/03/2004</th>\n",
              "      <td>2.0</td>\n",
              "      <td>1292.0</td>\n",
              "      <td>112.0</td>\n",
              "      <td>9.4</td>\n",
              "      <td>955.0</td>\n",
              "      <td>103.0</td>\n",
              "      <td>1174.0</td>\n",
              "      <td>92.0</td>\n",
              "      <td>1559.0</td>\n",
              "      <td>972.0</td>\n",
              "      <td>13.3</td>\n",
              "      <td>47.7</td>\n",
              "      <td>0.7255</td>\n",
              "      <td>19</td>\n",
              "    </tr>\n",
              "    <tr>\n",
              "      <th>10/03/2004</th>\n",
              "      <td>2.2</td>\n",
              "      <td>1402.0</td>\n",
              "      <td>88.0</td>\n",
              "      <td>9.0</td>\n",
              "      <td>939.0</td>\n",
              "      <td>131.0</td>\n",
              "      <td>1140.0</td>\n",
              "      <td>114.0</td>\n",
              "      <td>1555.0</td>\n",
              "      <td>1074.0</td>\n",
              "      <td>11.9</td>\n",
              "      <td>54.0</td>\n",
              "      <td>0.7502</td>\n",
              "      <td>20</td>\n",
              "    </tr>\n",
              "    <tr>\n",
              "      <th>10/03/2004</th>\n",
              "      <td>2.2</td>\n",
              "      <td>1376.0</td>\n",
              "      <td>80.0</td>\n",
              "      <td>9.2</td>\n",
              "      <td>948.0</td>\n",
              "      <td>172.0</td>\n",
              "      <td>1092.0</td>\n",
              "      <td>122.0</td>\n",
              "      <td>1584.0</td>\n",
              "      <td>1203.0</td>\n",
              "      <td>11.0</td>\n",
              "      <td>60.0</td>\n",
              "      <td>0.7867</td>\n",
              "      <td>21</td>\n",
              "    </tr>\n",
              "    <tr>\n",
              "      <th>10/03/2004</th>\n",
              "      <td>1.6</td>\n",
              "      <td>1272.0</td>\n",
              "      <td>51.0</td>\n",
              "      <td>6.5</td>\n",
              "      <td>836.0</td>\n",
              "      <td>131.0</td>\n",
              "      <td>1205.0</td>\n",
              "      <td>116.0</td>\n",
              "      <td>1490.0</td>\n",
              "      <td>1110.0</td>\n",
              "      <td>11.2</td>\n",
              "      <td>59.6</td>\n",
              "      <td>0.7888</td>\n",
              "      <td>22</td>\n",
              "    </tr>\n",
              "  </tbody>\n",
              "</table>\n",
              "</div>"
            ],
            "text/plain": [
              "            CO_GT  PT08_S1_CO  NMHC_GT  C6H6_GT  ...     T    RH      AH  Hour\n",
              "DATE                                             ...                          \n",
              "10/03/2004    2.6      1360.0    150.0     11.9  ...  13.6  48.9  0.7578    18\n",
              "10/03/2004    2.0      1292.0    112.0      9.4  ...  13.3  47.7  0.7255    19\n",
              "10/03/2004    2.2      1402.0     88.0      9.0  ...  11.9  54.0  0.7502    20\n",
              "10/03/2004    2.2      1376.0     80.0      9.2  ...  11.0  60.0  0.7867    21\n",
              "10/03/2004    1.6      1272.0     51.0      6.5  ...  11.2  59.6  0.7888    22\n",
              "\n",
              "[5 rows x 14 columns]"
            ]
          },
          "metadata": {},
          "execution_count": 18
        }
      ]
    },
    {
      "cell_type": "code",
      "metadata": {
        "colab": {
          "base_uri": "https://localhost:8080/"
        },
        "id": "Cmhd2aPZtIfw",
        "outputId": "20abaff9-276e-494a-ce36-c08ec0a1b0a2"
      },
      "source": [
        "  print(df_air.shape[0]-df_air.count())"
      ],
      "execution_count": 22,
      "outputs": [
        {
          "output_type": "stream",
          "name": "stdout",
          "text": [
            "CO_GT           1647\n",
            "PT08_S1_CO         0\n",
            "NMHC_GT         8104\n",
            "C6H6_GT            0\n",
            "PT08_S2_NMHC       0\n",
            "NOX_GT          1595\n",
            "PT08_S3_NOX        0\n",
            "NO2_GT          1598\n",
            "PT08_S4_NO2        0\n",
            "PT08_S5_O3         0\n",
            "T                  0\n",
            "RH                 0\n",
            "AH                 0\n",
            "Hour               0\n",
            "dtype: int64\n"
          ]
        }
      ]
    },
    {
      "cell_type": "code",
      "metadata": {
        "colab": {
          "base_uri": "https://localhost:8080/",
          "height": 237
        },
        "id": "tSNX8_c4tn3K",
        "outputId": "1f1d7196-4376-4871-8ba1-31219e55cf65"
      },
      "source": [
        "df_air.head()"
      ],
      "execution_count": 23,
      "outputs": [
        {
          "output_type": "execute_result",
          "data": {
            "text/html": [
              "<div>\n",
              "<style scoped>\n",
              "    .dataframe tbody tr th:only-of-type {\n",
              "        vertical-align: middle;\n",
              "    }\n",
              "\n",
              "    .dataframe tbody tr th {\n",
              "        vertical-align: top;\n",
              "    }\n",
              "\n",
              "    .dataframe thead th {\n",
              "        text-align: right;\n",
              "    }\n",
              "</style>\n",
              "<table border=\"1\" class=\"dataframe\">\n",
              "  <thead>\n",
              "    <tr style=\"text-align: right;\">\n",
              "      <th></th>\n",
              "      <th>CO_GT</th>\n",
              "      <th>PT08_S1_CO</th>\n",
              "      <th>NMHC_GT</th>\n",
              "      <th>C6H6_GT</th>\n",
              "      <th>PT08_S2_NMHC</th>\n",
              "      <th>NOX_GT</th>\n",
              "      <th>PT08_S3_NOX</th>\n",
              "      <th>NO2_GT</th>\n",
              "      <th>PT08_S4_NO2</th>\n",
              "      <th>PT08_S5_O3</th>\n",
              "      <th>T</th>\n",
              "      <th>RH</th>\n",
              "      <th>AH</th>\n",
              "      <th>Hour</th>\n",
              "    </tr>\n",
              "    <tr>\n",
              "      <th>DATE</th>\n",
              "      <th></th>\n",
              "      <th></th>\n",
              "      <th></th>\n",
              "      <th></th>\n",
              "      <th></th>\n",
              "      <th></th>\n",
              "      <th></th>\n",
              "      <th></th>\n",
              "      <th></th>\n",
              "      <th></th>\n",
              "      <th></th>\n",
              "      <th></th>\n",
              "      <th></th>\n",
              "      <th></th>\n",
              "    </tr>\n",
              "  </thead>\n",
              "  <tbody>\n",
              "    <tr>\n",
              "      <th>10/03/2004</th>\n",
              "      <td>2.6</td>\n",
              "      <td>1360.0</td>\n",
              "      <td>150.0</td>\n",
              "      <td>11.9</td>\n",
              "      <td>1046.0</td>\n",
              "      <td>166.0</td>\n",
              "      <td>1056.0</td>\n",
              "      <td>113.0</td>\n",
              "      <td>1692.0</td>\n",
              "      <td>1268.0</td>\n",
              "      <td>13.6</td>\n",
              "      <td>48.9</td>\n",
              "      <td>0.7578</td>\n",
              "      <td>18</td>\n",
              "    </tr>\n",
              "    <tr>\n",
              "      <th>10/03/2004</th>\n",
              "      <td>2.0</td>\n",
              "      <td>1292.0</td>\n",
              "      <td>112.0</td>\n",
              "      <td>9.4</td>\n",
              "      <td>955.0</td>\n",
              "      <td>103.0</td>\n",
              "      <td>1174.0</td>\n",
              "      <td>92.0</td>\n",
              "      <td>1559.0</td>\n",
              "      <td>972.0</td>\n",
              "      <td>13.3</td>\n",
              "      <td>47.7</td>\n",
              "      <td>0.7255</td>\n",
              "      <td>19</td>\n",
              "    </tr>\n",
              "    <tr>\n",
              "      <th>10/03/2004</th>\n",
              "      <td>2.2</td>\n",
              "      <td>1402.0</td>\n",
              "      <td>88.0</td>\n",
              "      <td>9.0</td>\n",
              "      <td>939.0</td>\n",
              "      <td>131.0</td>\n",
              "      <td>1140.0</td>\n",
              "      <td>114.0</td>\n",
              "      <td>1555.0</td>\n",
              "      <td>1074.0</td>\n",
              "      <td>11.9</td>\n",
              "      <td>54.0</td>\n",
              "      <td>0.7502</td>\n",
              "      <td>20</td>\n",
              "    </tr>\n",
              "    <tr>\n",
              "      <th>10/03/2004</th>\n",
              "      <td>2.2</td>\n",
              "      <td>1376.0</td>\n",
              "      <td>80.0</td>\n",
              "      <td>9.2</td>\n",
              "      <td>948.0</td>\n",
              "      <td>172.0</td>\n",
              "      <td>1092.0</td>\n",
              "      <td>122.0</td>\n",
              "      <td>1584.0</td>\n",
              "      <td>1203.0</td>\n",
              "      <td>11.0</td>\n",
              "      <td>60.0</td>\n",
              "      <td>0.7867</td>\n",
              "      <td>21</td>\n",
              "    </tr>\n",
              "    <tr>\n",
              "      <th>10/03/2004</th>\n",
              "      <td>1.6</td>\n",
              "      <td>1272.0</td>\n",
              "      <td>51.0</td>\n",
              "      <td>6.5</td>\n",
              "      <td>836.0</td>\n",
              "      <td>131.0</td>\n",
              "      <td>1205.0</td>\n",
              "      <td>116.0</td>\n",
              "      <td>1490.0</td>\n",
              "      <td>1110.0</td>\n",
              "      <td>11.2</td>\n",
              "      <td>59.6</td>\n",
              "      <td>0.7888</td>\n",
              "      <td>22</td>\n",
              "    </tr>\n",
              "  </tbody>\n",
              "</table>\n",
              "</div>"
            ],
            "text/plain": [
              "            CO_GT  PT08_S1_CO  NMHC_GT  C6H6_GT  ...     T    RH      AH  Hour\n",
              "DATE                                             ...                          \n",
              "10/03/2004    2.6      1360.0    150.0     11.9  ...  13.6  48.9  0.7578    18\n",
              "10/03/2004    2.0      1292.0    112.0      9.4  ...  13.3  47.7  0.7255    19\n",
              "10/03/2004    2.2      1402.0     88.0      9.0  ...  11.9  54.0  0.7502    20\n",
              "10/03/2004    2.2      1376.0     80.0      9.2  ...  11.0  60.0  0.7867    21\n",
              "10/03/2004    1.6      1272.0     51.0      6.5  ...  11.2  59.6  0.7888    22\n",
              "\n",
              "[5 rows x 14 columns]"
            ]
          },
          "metadata": {},
          "execution_count": 23
        }
      ]
    },
    {
      "cell_type": "code",
      "metadata": {
        "id": "eufHiCjsuOb0"
      },
      "source": [
        "  df_air['CO_GT']=df_air['CO_GT'].fillna(df_air.groupby(['DATE','Hour'])['CO_GT'].transform('mean'))\n",
        "  df_air['NO2_GT']=df_air['NO2_GT'].fillna(df_air.groupby(['DATE','Hour'])['NO2_GT'].transform('mean'))\n",
        "  df_air['NOX_GT']=df_air['NOX_GT'].fillna(df_air.groupby(['DATE','Hour'])['NOX_GT'].transform('mean'))"
      ],
      "execution_count": 29,
      "outputs": []
    },
    {
      "cell_type": "code",
      "metadata": {
        "colab": {
          "base_uri": "https://localhost:8080/"
        },
        "id": "ug5jXNg_wetg",
        "outputId": "bb7a0b74-73db-4f78-9a41-d75cc369a39f"
      },
      "source": [
        "print(df_air.shape[0]-df_air.count())"
      ],
      "execution_count": 30,
      "outputs": [
        {
          "output_type": "stream",
          "name": "stdout",
          "text": [
            "CO_GT           1647\n",
            "PT08_S1_CO         0\n",
            "NMHC_GT         8104\n",
            "C6H6_GT            0\n",
            "PT08_S2_NMHC       0\n",
            "NOX_GT          1595\n",
            "PT08_S3_NOX        0\n",
            "NO2_GT          1598\n",
            "PT08_S4_NO2        0\n",
            "PT08_S5_O3         0\n",
            "T                  0\n",
            "RH                 0\n",
            "AH                 0\n",
            "Hour               0\n",
            "dtype: int64\n"
          ]
        }
      ]
    },
    {
      "cell_type": "code",
      "metadata": {
        "id": "pAR6srx2w0tv"
      },
      "source": [
        "  df_air['CO_GT']=df_air['CO_GT'].fillna(df_air.groupby(['Hour'])['CO_GT'].transform('mean'))\n",
        "  df_air['NO2_GT']=df_air['NO2_GT'].fillna(df_air.groupby(['Hour'])['NO2_GT'].transform('mean'))\n",
        "  df_air['NOX_GT']=df_air['NOX_GT'].fillna(df_air.groupby(['Hour'])['NOX_GT'].transform('mean'))"
      ],
      "execution_count": 31,
      "outputs": []
    },
    {
      "cell_type": "code",
      "metadata": {
        "colab": {
          "base_uri": "https://localhost:8080/"
        },
        "id": "PItM5VnjyJxM",
        "outputId": "c4f716f6-8ab3-4c31-f298-05d758eb8d11"
      },
      "source": [
        "print(df_air.shape[0]-df_air.count())"
      ],
      "execution_count": 32,
      "outputs": [
        {
          "output_type": "stream",
          "name": "stdout",
          "text": [
            "CO_GT              0\n",
            "PT08_S1_CO         0\n",
            "NMHC_GT         8104\n",
            "C6H6_GT            0\n",
            "PT08_S2_NMHC       0\n",
            "NOX_GT             0\n",
            "PT08_S3_NOX        0\n",
            "NO2_GT             0\n",
            "PT08_S4_NO2        0\n",
            "PT08_S5_O3         0\n",
            "T                  0\n",
            "RH                 0\n",
            "AH                 0\n",
            "Hour               0\n",
            "dtype: int64\n"
          ]
        }
      ]
    },
    {
      "cell_type": "code",
      "metadata": {
        "colab": {
          "base_uri": "https://localhost:8080/",
          "height": 681
        },
        "id": "oKa8SEvryM6g",
        "outputId": "f98877d5-1306-4ac0-94fb-0b413ec0ee50"
      },
      "source": [
        "sns.heatmap(df_air.corr(),annot=True,cmap='viridis')\n",
        "# plt.title('Heatmap')\n",
        "# plt.show()"
      ],
      "execution_count": 34,
      "outputs": [
        {
          "output_type": "execute_result",
          "data": {
            "text/plain": [
              "<matplotlib.axes._subplots.AxesSubplot at 0x7f8b69ed4450>"
            ]
          },
          "metadata": {},
          "execution_count": 34
        },
        {
          "output_type": "display_data",
          "data": {
            "image/png": "[encoded data removed]",
            "text/plain": [
              "<Figure size 1080x720 with 2 Axes>"
            ]
          },
          "metadata": {
            "needs_background": "light"
          }
        }
      ]
    },
    {
      "cell_type": "code",
      "metadata": {
        "id": "tUf2FvP34sL3"
      },
      "source": [
        "from keras.models import Sequential, load_model, save_model\n",
        "from keras.layers import Dense\n",
        "from keras.layers import LSTM\n",
        "import glob\n",
        "from datetime import datetime\n",
        "from keras.callbacks import EarlyStopping\n",
        "import time\n",
        "from sklearn.preprocessing import MinMaxScaler\n",
        "from sklearn.metrics import mean_squared_error\n",
        "from sklearn.metrics import mean_absolute_error\n",
        "from keras.callbacks import EarlyStopping"
      ],
      "execution_count": 46,
      "outputs": []
    },
    {
      "cell_type": "code",
      "metadata": {
        "id": "qonoOpJFzIoY"
      },
      "source": [
        "dataset = df_air.RH.values\n",
        "dataset = dataset.astype('float32')\n",
        "dataset = np.reshape(dataset,(-1,1))\n",
        "scalar = MinMaxScaler(feature_range=(0, 1))\n",
        "dataset = scalar.fit_transform(dataset)\n",
        "train_size = int(len(dataset) * 0.7)\n",
        "test_size = len(dataset) - train_size"
      ],
      "execution_count": 52,
      "outputs": []
    },
    {
      "cell_type": "code",
      "metadata": {
        "colab": {
          "base_uri": "https://localhost:8080/"
        },
        "id": "dmZXF21x0nll",
        "outputId": "e5458922-5855-4135-9d10-2cf0a42d45f3"
      },
      "source": [
        "train_size\n",
        "test_size"
      ],
      "execution_count": 54,
      "outputs": [
        {
          "output_type": "execute_result",
          "data": {
            "text/plain": [
              "2698"
            ]
          },
          "metadata": {},
          "execution_count": 54
        }
      ]
    },
    {
      "cell_type": "code",
      "metadata": {
        "id": "5C0bTu9l0o_E"
      },
      "source": [
        "train,test = dataset[0:train_size,:],dataset[train_size:len(dataset),:]"
      ],
      "execution_count": 55,
      "outputs": []
    },
    {
      "cell_type": "code",
      "metadata": {
        "colab": {
          "base_uri": "https://localhost:8080/"
        },
        "id": "jtjn277e2ZJR",
        "outputId": "40fe5ddf-a4df-47a8-cebc-19caf1cd0d38"
      },
      "source": [
        "# print(len(train),len(test))\n",
        "print(range(len(dataset)))"
      ],
      "execution_count": 57,
      "outputs": [
        {
          "output_type": "stream",
          "name": "stdout",
          "text": [
            "range(0, 8991)\n"
          ]
        }
      ]
    },
    {
      "cell_type": "code",
      "metadata": {
        "id": "z3uuMECf2aqr"
      },
      "source": [
        ""
      ],
      "execution_count": null,
      "outputs": []
    }
  ]
}